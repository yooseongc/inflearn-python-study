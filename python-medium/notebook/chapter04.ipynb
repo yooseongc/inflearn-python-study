{
 "cells": [
  {
   "cell_type": "code",
   "execution_count": null,
   "metadata": {},
   "outputs": [],
   "source": [
    "#  In Python, sequence is the generic term for an ordered set.\n",
    "#  Lists are the most versatile sequence type.\n",
    "#  The elements of a list can be any object, and lists are mutable.\n",
    "#  Elements can be reassigned or removed, and new elements can be inserted.\n",
    "\n",
    "# Chapter04-01\n",
    "# 파이썬 심화\n",
    "# 시퀀스형 \n",
    "# Container : 서로다른 자료형[list, tuple, collections.deque]\n",
    "# Flat      : 한 개의 자료형[str, bytes, bytearray, array.array, memoryview]\n",
    "# 가변(list, bytearray, array.array, memoryview, deque) vs 불변(tuple, str, bytes)\n",
    "# 리스트 및 튜플 고급\n",
    "\n"
   ]
  },
  {
   "cell_type": "code",
   "execution_count": 2,
   "metadata": {},
   "outputs": [
    {
     "name": "stdout",
     "output_type": "stream",
     "text": [
      "[43, 95, 41, 40, 42, 38, 94, 37, 36, 35, 64, 33, 126, 41]\n",
      "[43, 95, 41, 40, 42, 38, 94, 37, 36, 35, 64, 33, 126, 41]\n",
      "[43, 95, 41, 42, 94, 64, 126, 41]\n",
      "[43, 95, 41, 42, 94, 64, 126, 41]\n",
      "['+', '_', ')', '(', '*', '&', '^', '%', '$', '#', '@', '!', '~', ')']\n",
      "['+', '_', ')', '(', '*', '&', '^', '%', '$', '#', '@', '!', '~', ')']\n",
      "['+', '_', ')', '*', '^', '@', '~', ')']\n",
      "['+', '_', ')', '*', '^', '@', '~', ')']\n"
     ]
    }
   ],
   "source": [
    "\n",
    "chars = '+_)(*&^%$#@!~)'\n",
    "\n",
    "# Without List Comprehension\n",
    "code_list1 = []\n",
    "for s in chars:\n",
    "    code_list1.append(ord(s))\n",
    "\n",
    "# With List Comprehension\n",
    "code_list2 = [ord(s) for s in chars]\n",
    "code_list3 = [ord(s) for s in chars if ord(s) > 40]\n",
    "code_list4 = list(filter(lambda x : x > 40, map(ord, chars)))\n",
    "\n",
    "# 전체 출력\n",
    "print(code_list1)\n",
    "print(code_list2)\n",
    "print(code_list3)\n",
    "print(code_list4)\n",
    "print([chr(s) for s in code_list1])\n",
    "print([chr(s) for s in code_list2])\n",
    "print([chr(s) for s in code_list3])\n",
    "print(list(map(chr, code_list4)))"
   ]
  },
  {
   "cell_type": "code",
   "execution_count": 6,
   "metadata": {},
   "outputs": [
    {
     "name": "stdout",
     "output_type": "stream",
     "text": [
      "<generator object <genexpr> at 0x000002D00CC91270>\n",
      "<class 'generator'>\n",
      "['__class__', '__del__', '__delattr__', '__dir__', '__doc__', '__eq__', '__format__', '__ge__', '__getattribute__', '__gt__', '__hash__', '__init__', '__init_subclass__', '__iter__', '__le__', '__lt__', '__name__', '__ne__', '__new__', '__next__', '__qualname__', '__reduce__', '__reduce_ex__', '__repr__', '__setattr__', '__sizeof__', '__str__', '__subclasshook__', 'close', 'gi_code', 'gi_frame', 'gi_running', 'gi_yieldfrom', 'send', 'throw']\n",
      "array('I', [43, 95, 41, 40, 42, 38, 94, 37, 36, 35, 64, 33, 126, 41])\n",
      "<class 'array.array'>\n",
      "43\n",
      "[43, 95, 41, 40, 42, 38, 94, 37, 36, 35, 64, 33, 126, 41]\n",
      "<generator object <genexpr> at 0x000002D00CC91200>\n",
      "A1\n",
      "A2\n",
      "B1\n",
      "B2\n",
      "C1\n",
      "C2\n",
      "D1\n",
      "D2\n"
     ]
    }
   ],
   "source": [
    "import array\n",
    "\n",
    "chars = '+_)(*&^%$#@!~)'\n",
    "\n",
    "# Generator : 한 번에 한 개의 항목을 생성(메모리 유지X, Lazy Loading)\n",
    "tuple_g = (ord(s) for s in chars)\n",
    "print(tuple_g)       # <generator object <genexpr> at 0x000002D00C62F660>\n",
    "print(type(tuple_g)) # <class 'generator'>\n",
    "print(dir(tuple_g))  # [ ..., '__iter__', '__next__', '__qualname__', '__reduce__', '__reduce_ex__', 'close', 'gi_code', 'gi_frame', 'gi_running', 'gi_yieldfrom', 'send', 'throw']\n",
    "\n",
    "# Array\n",
    "array_g = array.array('I', (ord(s) for s in chars))\n",
    "print(array_g)       # array('I', [43, 95, 41, 40, 42, 38, 94, 37, 36, 35, 64, 33, 126, 41])\n",
    "print(type(array_g)) # <class 'array.array'>\n",
    "\n",
    "\n",
    "print(next(tuple_g))     # 43\n",
    "print(array_g.tolist())  # [43, 95, 41, 40, 42, 38, 94, 37, 36, 35, 64, 33, 126, 41]\n",
    "\n",
    "\n",
    "# 제네레이터 예제\n",
    "print(('%s' % c + str(n) for c in ['A', 'B', 'C', 'D'] for n in range(1,3)))  # <generator object <genexpr> at 0x000002D00CC91200>\n",
    "\n",
    "for s in ('%s' % c + str(n) for c in ['A', 'B', 'C', 'D'] for n in range(1,3)):\n",
    "    print(s)"
   ]
  },
  {
   "cell_type": "code",
   "execution_count": 12,
   "metadata": {},
   "outputs": [
    {
     "name": "stdout",
     "output_type": "stream",
     "text": [
      "[['~', '~'], ['~', '~'], ['~', '~']]\n",
      "[['~', '~'], ['~', '~'], ['~', '~']]\n",
      "[['~', 'X'], ['~', '~'], ['~', '~']]\n",
      "[['~', 'X'], ['~', 'X'], ['~', 'X']]\n",
      "[3092577140416, 3092578195392, 3092577901056]\n",
      "[3092577945536, 3092577945536, 3092577945536]\n"
     ]
    }
   ],
   "source": [
    "# 리스트 주의\n",
    "marks1 = [['~'] * 2 for _ in range(3)]  \n",
    "marks2 = [['~'] * 2] * 3  # shallow copy (reference copy)\n",
    "\n",
    "print(marks1) # [['~', '~'], ['~', '~'], ['~', '~']]\n",
    "print(marks2) # [['~', '~'], ['~', '~'], ['~', '~']]\n",
    "\n",
    "# 수정\n",
    "marks1[0][1] = 'X'\n",
    "marks2[0][1] = 'X'\n",
    "\n",
    "print(marks1) # [['~', 'X'], ['~', '~'], ['~', '~']]\n",
    "print(marks2) # [['~', 'X'], ['~', 'X'], ['~', 'X']]\n",
    "\n",
    "# 증명\n",
    "print([id(i) for i in marks1])  # [3092578196928, 3092578202240, 3092577140416]\n",
    "print([id(i) for i in marks2])  # [3092590900096, 3092590900096, 3092590900096]\n"
   ]
  },
  {
   "cell_type": "code",
   "execution_count": 13,
   "metadata": {},
   "outputs": [],
   "source": [
    "# Chapter04-02\n",
    "# Tuple Advanced\n",
    "# Unpacking\n"
   ]
  },
  {
   "cell_type": "code",
   "execution_count": 17,
   "metadata": {},
   "outputs": [
    {
     "name": "stdout",
     "output_type": "stream",
     "text": [
      "(11, 1)\n",
      "(11, 1)\n",
      "11 1\n",
      "0 1 [2, 3, 4, 5, 6, 7, 8, 9]\n",
      "0 1 []\n",
      "1 2 [3, 4, 5]\n"
     ]
    }
   ],
   "source": [
    "# b, a = a, b\n",
    "\n",
    "# divmod: Return the tuple (x//y, x%y). Invariant: div*y + mod == x.\n",
    "print(divmod(100, 9))      # (11, 1)\n",
    "print(divmod(*(100, 9)))   # (11, 1)\n",
    "print(*(divmod(100, 9)))   # 11 1\n",
    "\n",
    "x, y, *rest = range(10)\n",
    "print(x, y, rest)            # 0 1 [2, 3, 4, 5, 6, 7, 8, 9]\n",
    "x, y, *rest = range(2)\n",
    "print(x, y, rest)            # 0 1 []\n",
    "x, y, *rest = 1, 2, 3, 4, 5\n",
    "print(x, y, rest)            # 1 2 [3, 4, 5]\n",
    "# x, y, *rest = range(1)  --> ValueError: not enough values to unpack (expected at least 2, got 1)"
   ]
  },
  {
   "cell_type": "code",
   "execution_count": 19,
   "metadata": {},
   "outputs": [
    {
     "name": "stdout",
     "output_type": "stream",
     "text": [
      "(15, 20, 25) 3092578213696\n",
      "[15, 20, 25] 3092590975104\n",
      "3092577721408\n",
      "3092578256896\n",
      "3092569941616\n",
      "3092578256896\n"
     ]
    }
   ],
   "source": [
    "# Mutable(가변) vs Immutable(불변)\n",
    "\n",
    "l = (15, 20, 25)  # tuple: immutable sequence\n",
    "m = [15, 20, 25]  # list: mutable sequence\n",
    "\n",
    "print(l, id(l))   # (15, 20, 25) 3092578213696\n",
    "print(m, id(m))   # [15, 20, 25] 3092578195264\n",
    "\n",
    "# list -> def __mul__(self, __n: SupportsIndex) -> list[_T]: ...\n",
    "l = l * 2\n",
    "m = m * 2\n",
    "\n",
    "# list -> def __imul__(self: _S, __n: SupportsIndex) -> _S: ...\n",
    "print(id(l))      # 3092577721408\n",
    "print(id(m))      # 3092578289536\n",
    "\n",
    "l *= 2\n",
    "m *= 2\n",
    "\n",
    "print(id(l))      # 3092569941616\n",
    "print(id(m))      # 3092578289536"
   ]
  },
  {
   "cell_type": "code",
   "execution_count": 20,
   "metadata": {},
   "outputs": [
    {
     "name": "stdout",
     "output_type": "stream",
     "text": [
      "sorted - ['apple', 'coconut', 'lemon', 'mango', 'orange', 'papaya', 'strawberry']\n",
      "sorted - ['strawberry', 'papaya', 'orange', 'mango', 'lemon', 'coconut', 'apple']\n",
      "sorted - ['apple', 'mango', 'lemon', 'orange', 'papaya', 'coconut', 'strawberry']\n",
      "sorted - ['papaya', 'orange', 'apple', 'lemon', 'mango', 'coconut', 'strawberry']\n",
      "sorted - ['strawberry', 'coconut', 'mango', 'lemon', 'orange', 'apple', 'papaya']\n",
      "sorted - ['orange', 'apple', 'mango', 'papaya', 'lemon', 'strawberry', 'coconut']\n",
      "sort - None ['apple', 'coconut', 'lemon', 'mango', 'orange', 'papaya', 'strawberry']\n",
      "sort - None ['strawberry', 'papaya', 'orange', 'mango', 'lemon', 'coconut', 'apple']\n",
      "sort - None ['mango', 'lemon', 'apple', 'papaya', 'orange', 'coconut', 'strawberry']\n",
      "sort - None ['papaya', 'apple', 'orange', 'lemon', 'mango', 'coconut', 'strawberry']\n",
      "sort - None ['strawberry', 'coconut', 'mango', 'lemon', 'apple', 'orange', 'papaya']\n"
     ]
    }
   ],
   "source": [
    "# sort vs sorted \n",
    "# reverse, key=len, key=str.lower, key=func..\n",
    "\n",
    "# sorted : 정렬 후 새로운 객체 반환\n",
    "f_list = ['orange', 'apple', 'mango', 'papaya', 'lemon', 'strawberry', 'coconut']\n",
    "\n",
    "print('sorted -', sorted(f_list))                                      # sorted - ['apple', 'coconut', 'lemon', 'mango', 'orange', 'papaya', 'strawberry']\n",
    "print('sorted -', sorted(f_list, reverse=True))                        # sorted - ['strawberry', 'papaya', 'orange', 'mango', 'lemon', 'coconut', 'apple']\n",
    "print('sorted -', sorted(f_list, key=len))                             # sorted - ['apple', 'mango', 'lemon', 'orange', 'papaya', 'coconut', 'strawberry']\n",
    "print('sorted -', sorted(f_list, key=lambda x: x[-1]))                 # sorted - ['papaya', 'orange', 'apple', 'lemon', 'mango', 'coconut', 'strawberry']\n",
    "print('sorted -', sorted(f_list, key=lambda x: x[-1], reverse=True))   # sorted - ['strawberry', 'coconut', 'mango', 'lemon', 'orange', 'apple', 'papaya']\n",
    "print('sorted -', f_list)                                              # sorted - ['orange', 'apple', 'mango', 'papaya', 'lemon', 'strawberry', 'coconut']\n",
    "\n",
    "\n",
    "\n",
    "# sort : 정렬 후 객체 직접 변경\n",
    "\n",
    "# 반환 값 확인(None)\n",
    "print('sort -', f_list.sort(), f_list)                                   # sort - None ['apple', 'coconut', 'lemon', 'mango', 'orange', 'papaya', 'strawberry']\n",
    "print('sort -', f_list.sort(reverse=True), f_list)                       # sort - None ['strawberry', 'papaya', 'orange', 'mango', 'lemon', 'coconut', 'apple']\n",
    "print('sort -', f_list.sort(key=len), f_list)                            # sort - None ['mango', 'lemon', 'apple', 'papaya', 'orange', 'coconut', 'strawberry']\n",
    "print('sort -', f_list.sort(key=lambda x: x[-1]), f_list)                # sort - None ['papaya', 'apple', 'orange', 'lemon', 'mango', 'coconut', 'strawberry']\n",
    "print('sort -', f_list.sort(key=lambda x: x[-1], reverse=True), f_list)  # sort - None ['strawberry', 'coconut', 'mango', 'lemon', 'apple', 'orange', 'papaya']\n",
    "\n",
    "# List vs Array 적합 한 사용법 설명\n",
    "# 리스트 기반 : 융통성, 다양한 자료형, 범용적 사용\n",
    "# 숫자 기반 : 배열(리스트와 거의 호환)\n"
   ]
  },
  {
   "cell_type": "code",
   "execution_count": 21,
   "metadata": {},
   "outputs": [],
   "source": [
    "# Chapter04-03\n",
    "# 파이썬 심화\n",
    "# 시퀀스형\n",
    "# 해시테이블(hashtable) -> 적은 리소스로 많은 데이터를 효율적으로 관리\n",
    "# Dict -> Key 중복 허용 X, Set -> 중복 허용 X\n",
    "# Dict 및 Set 심화"
   ]
  },
  {
   "cell_type": "code",
   "execution_count": 26,
   "metadata": {},
   "outputs": [
    {
     "name": "stdout",
     "output_type": "stream",
     "text": [
      "465510690262297113\n",
      "{'k1': ['val1', 'val2'], 'k2': ['val3', 'val4', 'val5']}\n",
      "{'k1': ['val1', 'val2'], 'k2': ['val3', 'val4', 'val5']}\n",
      "{'k1': 'val2', 'k2': 'val5'}\n"
     ]
    }
   ],
   "source": [
    "# Dict 구조  => Python에서는 Hash Table 사용\n",
    "# print(__builtins__.__dict__)\n",
    "\n",
    "# Hash 값 확인\n",
    "t1 = (10, 20, (30, 40, 50))\n",
    "t2 = (10, 20, [30, 40, 50])\n",
    "\n",
    "print(hash(t1))   # 465510690262297113\n",
    "# print(hash(t2)) # 예외  --> unhashable type: 'list'\n",
    "\n",
    "# Dict Setdefault 예제\n",
    "source = (\n",
    "    ('k1', 'val1'),\n",
    "    ('k1', 'val2'),\n",
    "    ('k2', 'val3'),\n",
    "    ('k2', 'val4'),\n",
    "    ('k2', 'val5')\n",
    ")\n",
    "\n",
    "new_dict1 = {}\n",
    "new_dict2 = {}\n",
    "\n",
    "# No use setdefault\n",
    "for k, v in source:\n",
    "    if k in new_dict1:\n",
    "        new_dict1[k].append(v)\n",
    "    else:\n",
    "        new_dict1[k] = [v]\n",
    "\n",
    "print(new_dict1)  # {'k1': ['val1', 'val2'], 'k2': ['val3', 'val4', 'val5']}\n",
    "\n",
    "# Use setdefault\n",
    "for k, v in source:\n",
    "    new_dict2.setdefault(k, []).append(v)\n",
    "\n",
    "print(new_dict2)  # {'k1': ['val1', 'val2'], 'k2': ['val3', 'val4', 'val5']}\n",
    "\n",
    "# 주의\n",
    "new_dict3 = {k: v for k , v in source}\n",
    "\n",
    "print(new_dict3)  # {'k1': 'val2', 'k2': 'val5'}\n"
   ]
  },
  {
   "cell_type": "code",
   "execution_count": 27,
   "metadata": {},
   "outputs": [],
   "source": [
    "# Chapter04-04\n",
    "# 파이썬 심화\n",
    "# 시퀀스형\n",
    "# 해시테이블(hashtable) -> 적은 리소스로 많은 데이터를 효율적으로 관리\n",
    "# Dict -> Key 중복 허용 X, Set -> 중복 허용 X\n",
    "# Dict 및 Set 심화"
   ]
  },
  {
   "cell_type": "code",
   "execution_count": 31,
   "metadata": {},
   "outputs": [
    {
     "name": "stdout",
     "output_type": "stream",
     "text": [
      "{'key1': 'value1'} 3092591779072\n",
      "{'key1': 'value1'} 3092577931904\n",
      "False True\n",
      "{'key1': 'value1', 'key2': 'value2'}\n",
      "{'Kiwi', 'Melon', 'Apple', 'Orange'} <class 'set'>\n",
      "{'Kiwi', 'Apple', 'Orange'} <class 'set'>\n",
      "{3} <class 'set'>\n",
      "set() <class 'set'>\n",
      "frozenset({'Kiwi', 'Apple', 'Orange'}) <class 'frozenset'>\n",
      "------\n",
      "  1           0 LOAD_CONST               0 (10)\n",
      "              2 BUILD_SET                1\n",
      "              4 RETURN_VALUE\n",
      "None\n",
      "------\n",
      "  1           0 LOAD_NAME                0 (set)\n",
      "              2 LOAD_CONST               0 (10)\n",
      "              4 BUILD_LIST               1\n",
      "              6 CALL_FUNCTION            1\n",
      "              8 RETURN_VALUE\n",
      "None\n",
      "\n",
      "\n",
      "------\n",
      "{'', 'NUMBER SIGN', 'LATIN CAPITAL LETTER U WITH ACUTE', 'LATIN CAPITAL LETTER C WITH CEDILLA', 'LATIN SMALL LETTER O WITH ACUTE', 'LATIN SMALL LETTER U WITH ACUTE', 'LATIN CAPITAL LETTER P', 'YEN SIGN', 'RIGHT CURLY BRACKET', 'LATIN CAPITAL LETTER X', 'LATIN CAPITAL LETTER D', 'LATIN SMALL LETTER I WITH DIAERESIS', 'LATIN SMALL LETTER U WITH CIRCUMFLEX', 'LATIN SMALL LETTER T', 'LATIN SMALL LETTER E WITH ACUTE', 'VULGAR FRACTION ONE QUARTER', 'VERTICAL LINE', 'LATIN SMALL LETTER D', 'LATIN CAPITAL LETTER E', 'LATIN SMALL LETTER N', 'LATIN SMALL LETTER A WITH CIRCUMFLEX', 'ASTERISK', 'NO-BREAK SPACE', 'LESS-THAN SIGN', 'EQUALS SIGN', 'LEFT-POINTING DOUBLE ANGLE QUOTATION MARK', 'CEDILLA', 'LATIN SMALL LETTER S', 'EXCLAMATION MARK', 'LATIN CAPITAL LETTER O WITH ACUTE', 'SUPERSCRIPT THREE', 'LATIN SMALL LETTER R', 'TILDE', 'LATIN CAPITAL LETTER Y', 'LATIN SMALL LETTER Q', 'DIGIT TWO', 'LATIN SMALL LETTER E WITH GRAVE', 'LATIN SMALL LETTER A WITH RING ABOVE', 'DEGREE SIGN', 'REGISTERED SIGN', 'LATIN CAPITAL LETTER A WITH CIRCUMFLEX', 'POUND SIGN', 'LATIN CAPITAL LETTER O WITH GRAVE', 'LATIN CAPITAL LETTER O WITH STROKE', 'LATIN SMALL LETTER ETH', 'HYPHEN-MINUS', 'SUPERSCRIPT TWO', 'LATIN SMALL LETTER U WITH GRAVE', 'LATIN CAPITAL LETTER ETH', 'LATIN SMALL LETTER I WITH GRAVE', 'DIGIT ZERO', 'LATIN SMALL LETTER Y WITH ACUTE', 'SOFT HYPHEN', 'LEFT PARENTHESIS', 'LATIN SMALL LETTER SHARP S', 'LATIN CAPITAL LETTER I WITH CIRCUMFLEX', 'LATIN CAPITAL LETTER O WITH DIAERESIS', 'LATIN CAPITAL LETTER U WITH DIAERESIS', 'APOSTROPHE', 'PILCROW SIGN', 'LATIN SMALL LETTER U WITH DIAERESIS', 'LATIN CAPITAL LETTER T', 'LATIN SMALL LETTER A', 'FULL STOP', 'LATIN SMALL LETTER C WITH CEDILLA', 'LATIN CAPITAL LETTER U WITH CIRCUMFLEX', 'LATIN SMALL LETTER AE', 'LATIN CAPITAL LETTER W', 'LATIN CAPITAL LETTER O', 'LATIN SMALL LETTER O WITH CIRCUMFLEX', 'LATIN SMALL LETTER O WITH DIAERESIS', 'LATIN SMALL LETTER G', 'LATIN SMALL LETTER E', 'LATIN CAPITAL LETTER A', 'DIGIT SIX', 'QUOTATION MARK', 'LATIN SMALL LETTER U', 'LATIN CAPITAL LETTER E WITH GRAVE', 'LATIN CAPITAL LETTER F', 'LATIN CAPITAL LETTER Q', 'BROKEN BAR', 'LATIN CAPITAL LETTER O WITH TILDE', 'LATIN SMALL LETTER J', 'LATIN CAPITAL LETTER I', 'SPACE', 'LATIN SMALL LETTER N WITH TILDE', 'LATIN CAPITAL LETTER THORN', 'LATIN CAPITAL LETTER I WITH GRAVE', 'LATIN SMALL LETTER Y WITH DIAERESIS', 'LATIN SMALL LETTER Z', 'DIGIT EIGHT', 'LATIN CAPITAL LETTER A WITH TILDE', 'COPYRIGHT SIGN', 'LATIN CAPITAL LETTER E WITH ACUTE', 'LATIN SMALL LETTER W', 'LATIN CAPITAL LETTER G', 'SOLIDUS', 'SECTION SIGN', 'DIGIT SEVEN', 'LATIN SMALL LETTER O WITH STROKE', 'GRAVE ACCENT', 'LATIN SMALL LETTER E WITH CIRCUMFLEX', 'LATIN SMALL LETTER H', 'RIGHT-POINTING DOUBLE ANGLE QUOTATION MARK', 'SUPERSCRIPT ONE', 'VULGAR FRACTION ONE HALF', 'LATIN CAPITAL LETTER J', 'LATIN SMALL LETTER V', 'LATIN CAPITAL LETTER Z', 'LATIN SMALL LETTER F', 'LOW LINE', 'PLUS SIGN', 'DIGIT THREE', 'RIGHT PARENTHESIS', 'LATIN CAPITAL LETTER R', 'LEFT SQUARE BRACKET', 'LATIN SMALL LETTER I WITH ACUTE', 'LATIN CAPITAL LETTER S', 'AMPERSAND', 'LATIN CAPITAL LETTER N', 'LATIN CAPITAL LETTER A WITH RING ABOVE', 'LATIN SMALL LETTER A WITH DIAERESIS', 'DIGIT FOUR', 'DIGIT NINE', 'FEMININE ORDINAL INDICATOR', 'LATIN CAPITAL LETTER A WITH GRAVE', 'LATIN SMALL LETTER E WITH DIAERESIS', 'RIGHT SQUARE BRACKET', 'REVERSE SOLIDUS', 'LATIN SMALL LETTER O', 'GREATER-THAN SIGN', 'SEMICOLON', 'LATIN CAPITAL LETTER N WITH TILDE', 'MIDDLE DOT', 'LATIN SMALL LETTER B', 'LATIN SMALL LETTER A WITH GRAVE', 'LATIN CAPITAL LETTER M', 'INVERTED QUESTION MARK', 'LATIN CAPITAL LETTER B', 'LATIN SMALL LETTER L', 'LATIN SMALL LETTER O WITH TILDE', 'COMMA', 'NOT SIGN', 'LATIN SMALL LETTER K', 'LATIN CAPITAL LETTER V', 'MICRO SIGN', 'LATIN CAPITAL LETTER H', 'LATIN SMALL LETTER Y', 'LATIN SMALL LETTER I WITH CIRCUMFLEX', 'MULTIPLICATION SIGN', 'DIAERESIS', 'LATIN SMALL LETTER P', 'CENT SIGN', 'LATIN CAPITAL LETTER K', 'LATIN CAPITAL LETTER E WITH DIAERESIS', 'DIVISION SIGN', 'LATIN SMALL LETTER I', 'LATIN CAPITAL LETTER A WITH ACUTE', 'LEFT CURLY BRACKET', 'LATIN CAPITAL LETTER AE', 'LATIN SMALL LETTER A WITH TILDE', 'CURRENCY SIGN', 'LATIN SMALL LETTER A WITH ACUTE', 'MASCULINE ORDINAL INDICATOR', 'QUESTION MARK', 'LATIN SMALL LETTER O WITH GRAVE', 'LATIN SMALL LETTER THORN', 'LATIN CAPITAL LETTER C', 'LATIN CAPITAL LETTER I WITH ACUTE', 'CIRCUMFLEX ACCENT', 'PERCENT SIGN', 'LATIN SMALL LETTER C', 'LATIN CAPITAL LETTER U WITH GRAVE', 'LATIN SMALL LETTER M', 'COMMERCIAL AT', 'LATIN CAPITAL LETTER U', 'INVERTED EXCLAMATION MARK', 'LATIN CAPITAL LETTER I WITH DIAERESIS', 'COLON', 'MACRON', 'LATIN SMALL LETTER X', 'LATIN CAPITAL LETTER E WITH CIRCUMFLEX', 'PLUS-MINUS SIGN', 'ACUTE ACCENT', 'LATIN CAPITAL LETTER O WITH CIRCUMFLEX', 'LATIN CAPITAL LETTER L', 'VULGAR FRACTION THREE QUARTERS', 'DIGIT ONE', 'LATIN CAPITAL LETTER A WITH DIAERESIS', 'LATIN CAPITAL LETTER Y WITH ACUTE', 'DIGIT FIVE', 'DOLLAR SIGN'}\n"
     ]
    }
   ],
   "source": [
    "# immutable Dict\n",
    "from types import MappingProxyType\n",
    "\n",
    "d = {'key1': 'value1'}\n",
    "\n",
    "# Read Only\n",
    "d_frozen = MappingProxyType(d)\n",
    "\n",
    "print(d, id(d))                     # {'key1': 'value1'} 3092591715264\n",
    "print(d_frozen, id(d_frozen))       # {'key1': 'value1'} 3092578320192\n",
    "print(d is d_frozen, d == d_frozen) # False True\n",
    "\n",
    "# 수정 불가\n",
    "# d_frozen['key1'] = 'value2'  --> TypeError: 'mappingproxy' object does not support item assignment\n",
    "\n",
    "d['key2'] = 'value2'\n",
    "print(d)  # {'key1': 'value1', 'key2': 'value2'}\n",
    "\n",
    "# Create Set\n",
    "s1 = {'Apple', 'Orange', 'Apple', 'Orange', 'Kiwi'}\n",
    "s2 = set(['Apple', 'Orange', 'Apple', 'Orange', 'Kiwi'])\n",
    "s3 = {3}\n",
    "s4 = set() # Not {}\n",
    "s5 = frozenset({'Apple', 'Orange', 'Apple', 'Orange', 'Kiwi'})\n",
    "\n",
    "# 추가\n",
    "s1.add('Melon')\n",
    "\n",
    "# 추가 불가\n",
    "# s5.add('Melon')  --> AttributeError: 'frozenset' object has no attribute 'add'\n",
    "\n",
    "print(s1, type(s1))  # {'Kiwi', 'Melon', 'Apple', 'Orange'} <class 'set'>\n",
    "print(s2, type(s2))  # {'Kiwi', 'Apple', 'Orange'} <class 'set'>\n",
    "print(s3, type(s3))  # {3} <class 'set'>\n",
    "print(s4, type(s4))  # set() <class 'set'>\n",
    "print(s5, type(s5))  # frozenset({'Kiwi', 'Apple', 'Orange'}) <class 'frozenset'>\n",
    "\n",
    "# 선언 최적화\n",
    "from dis import dis\n",
    "\n",
    "print('------')\n",
    "print(dis('{10}'))\n",
    "print('------')\n",
    "print(dis('set([10])'))\n",
    "print('------')\n",
    "\n",
    "\"\"\"\n",
    "------\n",
    "  1           0 LOAD_CONST               0 (10)\n",
    "              2 BUILD_SET                1\n",
    "              4 RETURN_VALUE\n",
    "None\n",
    "------\n",
    "  1           0 LOAD_NAME                0 (set)\n",
    "              2 LOAD_CONST               0 (10)\n",
    "              4 BUILD_LIST               1\n",
    "              6 CALL_FUNCTION            1\n",
    "              8 RETURN_VALUE\n",
    "None\n",
    "\n",
    "\n",
    "------\n",
    "\"\"\"\n",
    "\n",
    "# Set Comprehension\n",
    "from unicodedata import name\n",
    "\n",
    "print({name(chr(i), '') for i in range(0, 256)})"
   ]
  },
  {
   "cell_type": "code",
   "execution_count": null,
   "metadata": {},
   "outputs": [],
   "source": []
  }
 ],
 "metadata": {
  "interpreter": {
   "hash": "e96cff5f190434c268e77579683f38baf49f66526fe14b260605b36c122d5caf"
  },
  "kernelspec": {
   "display_name": "Python 3.9.4 64-bit ('venv': venv)",
   "language": "python",
   "name": "python3"
  },
  "language_info": {
   "codemirror_mode": {
    "name": "ipython",
    "version": 3
   },
   "file_extension": ".py",
   "mimetype": "text/x-python",
   "name": "python",
   "nbconvert_exporter": "python",
   "pygments_lexer": "ipython3",
   "version": "3.9.4"
  },
  "orig_nbformat": 4
 },
 "nbformat": 4,
 "nbformat_minor": 2
}
