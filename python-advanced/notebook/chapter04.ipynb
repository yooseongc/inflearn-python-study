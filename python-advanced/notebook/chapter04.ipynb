{
 "cells": [
  {
   "cell_type": "markdown",
   "metadata": {},
   "source": [
    "\n",
    "# Chapter 4\n",
    "\n",
    "## Python Advanced(4) - 나만의 패키지 만들기\n",
    "\n",
    "> Keyword - png(jpg) to gif, pil, image\n",
    "\n",
    "패키지 작성\n",
    "  -> 정적 이미지(JPG, PNG) -> GIF(애니메이션)이미지 변환 패키지 \n",
    "\n"
   ]
  },
  {
   "cell_type": "code",
   "execution_count": 1,
   "metadata": {},
   "outputs": [],
   "source": [
    "\n",
    "import glob\n",
    "from PIL import Image\n",
    "\n",
    "path_in = \"../project/images/*.png\"\n",
    "path_out = \"../project/image_out/result.gif\"\n",
    "\n",
    "img, *images = [Image.open(f).resize((320,240), Image.ANTIALIAS) for f in sorted(glob.glob(path_in))]\n",
    "\n",
    "img.save(path_out, \n",
    "         format=\"GIF\", \n",
    "         append_images=images,\n",
    "         save_all=True,\n",
    "         duration=500,\n",
    "         loop=0)\n"
   ]
  },
  {
   "cell_type": "code",
   "execution_count": 4,
   "metadata": {},
   "outputs": [],
   "source": [
    "\n",
    "import glob\n",
    "from PIL import Image\n",
    "\n",
    "\n",
    "class GIFConverter:\n",
    "\n",
    "    def __init__(self, \n",
    "                 path_in: str = None, \n",
    "                 path_out: str = None, \n",
    "                 resize: tuple[int, int]=(320, 240)) -> None:\n",
    "        \"\"\"\n",
    "        path_in: images path in format of glob. (ex. images/*.png)\n",
    "        path_out: GIF image output path. (ex. output/filename.gif)\n",
    "        resize: the size of resized image. default=(320, 240)\n",
    "        \"\"\"\n",
    "        self._path_in = path_in or \"./*.png\"\n",
    "        self._path_out = path_out or \"./output.gif\"\n",
    "        self._resize = resize\n",
    "\n",
    "    def convert_gif(self) -> None:\n",
    "        \"\"\"\n",
    "        convert images to a single gif file.\n",
    "        \"\"\"\n",
    "        img, *images = \\\n",
    "            [Image.open(f).resize(self._resize, Image.ANTIALIAS) for f in sorted(glob.glob(self._path_in))]\n",
    "\n",
    "        try:\n",
    "            img.save(self._path_out, \n",
    "                     format=\"GIF\", \n",
    "                     append_images=images,\n",
    "                     save_all=True,\n",
    "                     duration=500,\n",
    "                     loop=0)\n",
    "        except IOError as e:\n",
    "            raise IOError(\"Cannot convert images to GIF!\") from e\n",
    "\n",
    "\n",
    "# Test\n",
    "if __name__ == \"__main__\":\n",
    "    c = GIFConverter(\"../project/images/*.png\", \"../project/image_out/result_test.gif\", (320, 240))\n",
    "    c.convert_gif()\n"
   ]
  },
  {
   "cell_type": "code",
   "execution_count": 1,
   "metadata": {},
   "outputs": [],
   "source": [
    "\n",
    "from gif_conv_ysc.converter import GIFConverter\n",
    "\n",
    "c = GIFConverter(\"../project/images/*.png\", \"../project/image_out/result.gif\", (320, 240))\n",
    "c.convert_gif()\n"
   ]
  },
  {
   "cell_type": "code",
   "execution_count": null,
   "metadata": {},
   "outputs": [],
   "source": []
  }
 ],
 "metadata": {
  "interpreter": {
   "hash": "e8c9afbbace391fe34ab0204902fe1b4a4b86ec1797f065474a294148c068dd1"
  },
  "kernelspec": {
   "display_name": "Python 3.9.4 64-bit ('venv': venv)",
   "language": "python",
   "name": "python3"
  },
  "language_info": {
   "codemirror_mode": {
    "name": "ipython",
    "version": 3
   },
   "file_extension": ".py",
   "mimetype": "text/x-python",
   "name": "python",
   "nbconvert_exporter": "python",
   "pygments_lexer": "ipython3",
   "version": "3.9.4"
  },
  "orig_nbformat": 4
 },
 "nbformat": 4,
 "nbformat_minor": 2
}
